{
 "cells": [
  {
   "cell_type": "code",
   "execution_count": 16,
   "id": "e0681e86",
   "metadata": {},
   "outputs": [],
   "source": [
    "from imblearn.pipeline import Pipeline as imbPipeline\n",
    "from sklearn.compose import ColumnTransformer\n",
    "from sklearn.pipeline import make_pipeline\n",
    "from sklearn.preprocessing import MinMaxScaler\n",
    "from imblearn.over_sampling import SMOTE\n",
    "from imblearn.under_sampling import RandomUnderSampler\n",
    "from sklearn.feature_selection import SelectFromModel\n",
    "from sklearn.ensemble import RandomForestClassifier\n",
    "from sklearn.preprocessing import OneHotEncoder\n",
    "from helper_functions.preprocess import custom_imputer, time_tranformer"
   ]
  },
  {
   "cell_type": "code",
   "execution_count": 17,
   "id": "a29b01c1",
   "metadata": {},
   "outputs": [],
   "source": [
    "import pandas as pd"
   ]
  },
  {
   "cell_type": "code",
   "execution_count": 18,
   "id": "93b2d0e8",
   "metadata": {},
   "outputs": [],
   "source": [
    "numerical_features = ['account_amount_added_12_24m',\n",
    "                      'account_days_in_dc_12_24m',\n",
    "                      'account_days_in_rem_12_24m',\n",
    "                      'account_days_in_term_12_24m',\n",
    "                      'account_incoming_debt_vs_paid_0_24m',\n",
    "                      'age',\n",
    "                      'avg_payment_span_0_12m',\n",
    "                      'avg_payment_span_0_3m',\n",
    "                      'max_paid_inv_0_12m',\n",
    "                      'max_paid_inv_0_24m',\n",
    "                      'num_active_div_by_paid_inv_0_12m',\n",
    "                      'num_active_inv',\n",
    "                      'num_arch_dc_0_12m',\n",
    "                      'num_arch_dc_12_24m',\n",
    "                      'num_arch_ok_0_12m',\n",
    "                      'num_arch_ok_12_24m',\n",
    "                      'num_arch_rem_0_12m',\n",
    "                      'num_arch_written_off_0_12m',\n",
    "                      'num_arch_written_off_12_24m',\n",
    "                      'num_unpaid_bills',\n",
    "                      'recovery_debt',\n",
    "                      'sum_capital_paid_account_0_12m',\n",
    "                      'sum_capital_paid_account_12_24m',\n",
    "                      'sum_paid_inv_0_12m']\n",
    "\n",
    "ordinal_features = ['account_status',\n",
    "                    'account_worst_status_0_3m',\n",
    "                    'account_worst_status_12_24m',\n",
    "                    'account_worst_status_3_6m',\n",
    "                    'account_worst_status_6_12m',\n",
    "                    'status_last_archived_0_24m',\n",
    "                    'status_2nd_last_archived_0_24m',\n",
    "                    'status_3rd_last_archived_0_24m',\n",
    "                    'status_max_archived_0_6_months',\n",
    "                    'status_max_archived_0_12_months',\n",
    "                    'status_max_archived_0_24_months',\n",
    "                    'worst_status_active_inv']\n",
    "\n",
    "nominal_features = ['merchant_category', 'merchant_group', 'has_paid', 'name_in_email']\n",
    "\n",
    "time_features = ['time_hours']"
   ]
  },
  {
   "cell_type": "code",
   "execution_count": 26,
   "id": "412f9130",
   "metadata": {},
   "outputs": [],
   "source": [
    "def pipeline(numerical_features, ordinal_features, nominal_features, time_features):\n",
    "    preproc_ordinal = make_pipeline(\n",
    "    custom_imputer(),\n",
    "    MinMaxScaler())\n",
    "\n",
    "    preproc_nominal = make_pipeline(\n",
    "        OneHotEncoder(handle_unknown=\"ignore\", drop='if_binary', sparse_output=False))\n",
    "\n",
    "    preproc_numerical = make_pipeline(\n",
    "        custom_imputer(),\n",
    "        MinMaxScaler(),\n",
    "        # KBinsDiscretizer(n_bins=5, encode='ordinal', strategy='quantile')\n",
    "    )\n",
    "\n",
    "    preproc_time = make_pipeline(\n",
    "        time_tranformer())\n",
    "\n",
    "    preproc_selector_multi = SelectFromModel(\n",
    "        RandomForestClassifier(),\n",
    "        threshold = \"median\", # drop all multivariate features lower than the median correlation\n",
    "    )\n",
    "\n",
    "    preproc_pipeline = ColumnTransformer(\n",
    "        [('numerical', preproc_numerical, numerical_features),\n",
    "        ('ordinal', preproc_ordinal, ordinal_features),\n",
    "        ('ohe', preproc_nominal, nominal_features),\n",
    "        ('time', preproc_time, time_features)],\n",
    "        remainder=\"drop\")\n",
    "\n",
    "    final_preproc_pipeline = imbPipeline(steps=[('pipe',preproc_pipeline),\n",
    "                                            ('smote',SMOTE(sampling_strategy=0.1)),\n",
    "                                            ('RandomUnderSampler', RandomUnderSampler(sampling_strategy=0.5)),\n",
    "                                            ('feature selecter', preproc_selector_multi)\n",
    "                                            ])\n",
    "    return final_preproc_pipeline"
   ]
  },
  {
   "cell_type": "code",
   "execution_count": 27,
   "id": "ca0f1247",
   "metadata": {},
   "outputs": [
    {
     "data": {
      "text/html": [
       "<style>#sk-container-id-4 {color: black;background-color: white;}#sk-container-id-4 pre{padding: 0;}#sk-container-id-4 div.sk-toggleable {background-color: white;}#sk-container-id-4 label.sk-toggleable__label {cursor: pointer;display: block;width: 100%;margin-bottom: 0;padding: 0.3em;box-sizing: border-box;text-align: center;}#sk-container-id-4 label.sk-toggleable__label-arrow:before {content: \"▸\";float: left;margin-right: 0.25em;color: #696969;}#sk-container-id-4 label.sk-toggleable__label-arrow:hover:before {color: black;}#sk-container-id-4 div.sk-estimator:hover label.sk-toggleable__label-arrow:before {color: black;}#sk-container-id-4 div.sk-toggleable__content {max-height: 0;max-width: 0;overflow: hidden;text-align: left;background-color: #f0f8ff;}#sk-container-id-4 div.sk-toggleable__content pre {margin: 0.2em;color: black;border-radius: 0.25em;background-color: #f0f8ff;}#sk-container-id-4 input.sk-toggleable__control:checked~div.sk-toggleable__content {max-height: 200px;max-width: 100%;overflow: auto;}#sk-container-id-4 input.sk-toggleable__control:checked~label.sk-toggleable__label-arrow:before {content: \"▾\";}#sk-container-id-4 div.sk-estimator input.sk-toggleable__control:checked~label.sk-toggleable__label {background-color: #d4ebff;}#sk-container-id-4 div.sk-label input.sk-toggleable__control:checked~label.sk-toggleable__label {background-color: #d4ebff;}#sk-container-id-4 input.sk-hidden--visually {border: 0;clip: rect(1px 1px 1px 1px);clip: rect(1px, 1px, 1px, 1px);height: 1px;margin: -1px;overflow: hidden;padding: 0;position: absolute;width: 1px;}#sk-container-id-4 div.sk-estimator {font-family: monospace;background-color: #f0f8ff;border: 1px dotted black;border-radius: 0.25em;box-sizing: border-box;margin-bottom: 0.5em;}#sk-container-id-4 div.sk-estimator:hover {background-color: #d4ebff;}#sk-container-id-4 div.sk-parallel-item::after {content: \"\";width: 100%;border-bottom: 1px solid gray;flex-grow: 1;}#sk-container-id-4 div.sk-label:hover label.sk-toggleable__label {background-color: #d4ebff;}#sk-container-id-4 div.sk-serial::before {content: \"\";position: absolute;border-left: 1px solid gray;box-sizing: border-box;top: 0;bottom: 0;left: 50%;z-index: 0;}#sk-container-id-4 div.sk-serial {display: flex;flex-direction: column;align-items: center;background-color: white;padding-right: 0.2em;padding-left: 0.2em;position: relative;}#sk-container-id-4 div.sk-item {position: relative;z-index: 1;}#sk-container-id-4 div.sk-parallel {display: flex;align-items: stretch;justify-content: center;background-color: white;position: relative;}#sk-container-id-4 div.sk-item::before, #sk-container-id-4 div.sk-parallel-item::before {content: \"\";position: absolute;border-left: 1px solid gray;box-sizing: border-box;top: 0;bottom: 0;left: 50%;z-index: -1;}#sk-container-id-4 div.sk-parallel-item {display: flex;flex-direction: column;z-index: 1;position: relative;background-color: white;}#sk-container-id-4 div.sk-parallel-item:first-child::after {align-self: flex-end;width: 50%;}#sk-container-id-4 div.sk-parallel-item:last-child::after {align-self: flex-start;width: 50%;}#sk-container-id-4 div.sk-parallel-item:only-child::after {width: 0;}#sk-container-id-4 div.sk-dashed-wrapped {border: 1px dashed gray;margin: 0 0.4em 0.5em 0.4em;box-sizing: border-box;padding-bottom: 0.4em;background-color: white;}#sk-container-id-4 div.sk-label label {font-family: monospace;font-weight: bold;display: inline-block;line-height: 1.2em;}#sk-container-id-4 div.sk-label-container {text-align: center;}#sk-container-id-4 div.sk-container {/* jupyter's `normalize.less` sets `[hidden] { display: none; }` but bootstrap.min.css set `[hidden] { display: none !important; }` so we also need the `!important` here to be able to override the default hidden behavior on the sphinx rendered scikit-learn.org. See: https://github.com/scikit-learn/scikit-learn/issues/21755 */display: inline-block !important;position: relative;}#sk-container-id-4 div.sk-text-repr-fallback {display: none;}</style><div id=\"sk-container-id-4\" class=\"sk-top-container\"><div class=\"sk-text-repr-fallback\"><pre>Pipeline(steps=[(&#x27;pipe&#x27;,\n",
       "                 ColumnTransformer(transformers=[(&#x27;numerical&#x27;,\n",
       "                                                  Pipeline(steps=[(&#x27;custom_imputer&#x27;,\n",
       "                                                                   custom_imputer()),\n",
       "                                                                  (&#x27;minmaxscaler&#x27;,\n",
       "                                                                   MinMaxScaler())]),\n",
       "                                                  [&#x27;account_amount_added_12_24m&#x27;,\n",
       "                                                   &#x27;account_days_in_dc_12_24m&#x27;,\n",
       "                                                   &#x27;account_days_in_rem_12_24m&#x27;,\n",
       "                                                   &#x27;account_days_in_term_12_24m&#x27;,\n",
       "                                                   &#x27;account_incoming_debt_vs_paid_0_24m&#x27;,\n",
       "                                                   &#x27;age&#x27;,\n",
       "                                                   &#x27;avg_payment_span_0_12m&#x27;,\n",
       "                                                   &#x27;avg_pay...\n",
       "                                                                                 sparse_output=False))]),\n",
       "                                                  [&#x27;merchant_category&#x27;,\n",
       "                                                   &#x27;merchant_group&#x27;, &#x27;has_paid&#x27;,\n",
       "                                                   &#x27;name_in_email&#x27;]),\n",
       "                                                 (&#x27;time&#x27;,\n",
       "                                                  Pipeline(steps=[(&#x27;time_tranformer&#x27;,\n",
       "                                                                   time_tranformer())]),\n",
       "                                                  [&#x27;time_hours&#x27;])])),\n",
       "                (&#x27;smote&#x27;, SMOTE(sampling_strategy=0.1)),\n",
       "                (&#x27;RandomUnderSampler&#x27;,\n",
       "                 RandomUnderSampler(sampling_strategy=0.5)),\n",
       "                (&#x27;feature selecter&#x27;,\n",
       "                 SelectFromModel(estimator=RandomForestClassifier(),\n",
       "                                 threshold=&#x27;median&#x27;))])</pre><b>In a Jupyter environment, please rerun this cell to show the HTML representation or trust the notebook. <br />On GitHub, the HTML representation is unable to render, please try loading this page with nbviewer.org.</b></div><div class=\"sk-container\" hidden><div class=\"sk-item sk-dashed-wrapped\"><div class=\"sk-label-container\"><div class=\"sk-label sk-toggleable\"><input class=\"sk-toggleable__control sk-hidden--visually\" id=\"sk-estimator-id-49\" type=\"checkbox\" ><label for=\"sk-estimator-id-49\" class=\"sk-toggleable__label sk-toggleable__label-arrow\">Pipeline</label><div class=\"sk-toggleable__content\"><pre>Pipeline(steps=[(&#x27;pipe&#x27;,\n",
       "                 ColumnTransformer(transformers=[(&#x27;numerical&#x27;,\n",
       "                                                  Pipeline(steps=[(&#x27;custom_imputer&#x27;,\n",
       "                                                                   custom_imputer()),\n",
       "                                                                  (&#x27;minmaxscaler&#x27;,\n",
       "                                                                   MinMaxScaler())]),\n",
       "                                                  [&#x27;account_amount_added_12_24m&#x27;,\n",
       "                                                   &#x27;account_days_in_dc_12_24m&#x27;,\n",
       "                                                   &#x27;account_days_in_rem_12_24m&#x27;,\n",
       "                                                   &#x27;account_days_in_term_12_24m&#x27;,\n",
       "                                                   &#x27;account_incoming_debt_vs_paid_0_24m&#x27;,\n",
       "                                                   &#x27;age&#x27;,\n",
       "                                                   &#x27;avg_payment_span_0_12m&#x27;,\n",
       "                                                   &#x27;avg_pay...\n",
       "                                                                                 sparse_output=False))]),\n",
       "                                                  [&#x27;merchant_category&#x27;,\n",
       "                                                   &#x27;merchant_group&#x27;, &#x27;has_paid&#x27;,\n",
       "                                                   &#x27;name_in_email&#x27;]),\n",
       "                                                 (&#x27;time&#x27;,\n",
       "                                                  Pipeline(steps=[(&#x27;time_tranformer&#x27;,\n",
       "                                                                   time_tranformer())]),\n",
       "                                                  [&#x27;time_hours&#x27;])])),\n",
       "                (&#x27;smote&#x27;, SMOTE(sampling_strategy=0.1)),\n",
       "                (&#x27;RandomUnderSampler&#x27;,\n",
       "                 RandomUnderSampler(sampling_strategy=0.5)),\n",
       "                (&#x27;feature selecter&#x27;,\n",
       "                 SelectFromModel(estimator=RandomForestClassifier(),\n",
       "                                 threshold=&#x27;median&#x27;))])</pre></div></div></div><div class=\"sk-serial\"><div class=\"sk-item sk-dashed-wrapped\"><div class=\"sk-label-container\"><div class=\"sk-label sk-toggleable\"><input class=\"sk-toggleable__control sk-hidden--visually\" id=\"sk-estimator-id-50\" type=\"checkbox\" ><label for=\"sk-estimator-id-50\" class=\"sk-toggleable__label sk-toggleable__label-arrow\">pipe: ColumnTransformer</label><div class=\"sk-toggleable__content\"><pre>ColumnTransformer(transformers=[(&#x27;numerical&#x27;,\n",
       "                                 Pipeline(steps=[(&#x27;custom_imputer&#x27;,\n",
       "                                                  custom_imputer()),\n",
       "                                                 (&#x27;minmaxscaler&#x27;,\n",
       "                                                  MinMaxScaler())]),\n",
       "                                 [&#x27;account_amount_added_12_24m&#x27;,\n",
       "                                  &#x27;account_days_in_dc_12_24m&#x27;,\n",
       "                                  &#x27;account_days_in_rem_12_24m&#x27;,\n",
       "                                  &#x27;account_days_in_term_12_24m&#x27;,\n",
       "                                  &#x27;account_incoming_debt_vs_paid_0_24m&#x27;, &#x27;age&#x27;,\n",
       "                                  &#x27;avg_payment_span_0_12m&#x27;,\n",
       "                                  &#x27;avg_payment_span_0_3m&#x27;, &#x27;max_pai...\n",
       "                                  &#x27;status_max_archived_0_12_months&#x27;,\n",
       "                                  &#x27;status_max_archived_0_24_months&#x27;,\n",
       "                                  &#x27;worst_status_active_inv&#x27;]),\n",
       "                                (&#x27;ohe&#x27;,\n",
       "                                 Pipeline(steps=[(&#x27;onehotencoder&#x27;,\n",
       "                                                  OneHotEncoder(drop=&#x27;if_binary&#x27;,\n",
       "                                                                handle_unknown=&#x27;ignore&#x27;,\n",
       "                                                                sparse_output=False))]),\n",
       "                                 [&#x27;merchant_category&#x27;, &#x27;merchant_group&#x27;,\n",
       "                                  &#x27;has_paid&#x27;, &#x27;name_in_email&#x27;]),\n",
       "                                (&#x27;time&#x27;,\n",
       "                                 Pipeline(steps=[(&#x27;time_tranformer&#x27;,\n",
       "                                                  time_tranformer())]),\n",
       "                                 [&#x27;time_hours&#x27;])])</pre></div></div></div><div class=\"sk-parallel\"><div class=\"sk-parallel-item\"><div class=\"sk-item\"><div class=\"sk-label-container\"><div class=\"sk-label sk-toggleable\"><input class=\"sk-toggleable__control sk-hidden--visually\" id=\"sk-estimator-id-51\" type=\"checkbox\" ><label for=\"sk-estimator-id-51\" class=\"sk-toggleable__label sk-toggleable__label-arrow\">numerical</label><div class=\"sk-toggleable__content\"><pre>[&#x27;account_amount_added_12_24m&#x27;, &#x27;account_days_in_dc_12_24m&#x27;, &#x27;account_days_in_rem_12_24m&#x27;, &#x27;account_days_in_term_12_24m&#x27;, &#x27;account_incoming_debt_vs_paid_0_24m&#x27;, &#x27;age&#x27;, &#x27;avg_payment_span_0_12m&#x27;, &#x27;avg_payment_span_0_3m&#x27;, &#x27;max_paid_inv_0_12m&#x27;, &#x27;max_paid_inv_0_24m&#x27;, &#x27;num_active_div_by_paid_inv_0_12m&#x27;, &#x27;num_active_inv&#x27;, &#x27;num_arch_dc_0_12m&#x27;, &#x27;num_arch_dc_12_24m&#x27;, &#x27;num_arch_ok_0_12m&#x27;, &#x27;num_arch_ok_12_24m&#x27;, &#x27;num_arch_rem_0_12m&#x27;, &#x27;num_arch_written_off_0_12m&#x27;, &#x27;num_arch_written_off_12_24m&#x27;, &#x27;num_unpaid_bills&#x27;, &#x27;recovery_debt&#x27;, &#x27;sum_capital_paid_account_0_12m&#x27;, &#x27;sum_capital_paid_account_12_24m&#x27;, &#x27;sum_paid_inv_0_12m&#x27;]</pre></div></div></div><div class=\"sk-serial\"><div class=\"sk-item\"><div class=\"sk-serial\"><div class=\"sk-item\"><div class=\"sk-estimator sk-toggleable\"><input class=\"sk-toggleable__control sk-hidden--visually\" id=\"sk-estimator-id-52\" type=\"checkbox\" ><label for=\"sk-estimator-id-52\" class=\"sk-toggleable__label sk-toggleable__label-arrow\">custom_imputer</label><div class=\"sk-toggleable__content\"><pre>custom_imputer()</pre></div></div></div><div class=\"sk-item\"><div class=\"sk-estimator sk-toggleable\"><input class=\"sk-toggleable__control sk-hidden--visually\" id=\"sk-estimator-id-53\" type=\"checkbox\" ><label for=\"sk-estimator-id-53\" class=\"sk-toggleable__label sk-toggleable__label-arrow\">MinMaxScaler</label><div class=\"sk-toggleable__content\"><pre>MinMaxScaler()</pre></div></div></div></div></div></div></div></div><div class=\"sk-parallel-item\"><div class=\"sk-item\"><div class=\"sk-label-container\"><div class=\"sk-label sk-toggleable\"><input class=\"sk-toggleable__control sk-hidden--visually\" id=\"sk-estimator-id-54\" type=\"checkbox\" ><label for=\"sk-estimator-id-54\" class=\"sk-toggleable__label sk-toggleable__label-arrow\">ordinal</label><div class=\"sk-toggleable__content\"><pre>[&#x27;account_status&#x27;, &#x27;account_worst_status_0_3m&#x27;, &#x27;account_worst_status_12_24m&#x27;, &#x27;account_worst_status_3_6m&#x27;, &#x27;account_worst_status_6_12m&#x27;, &#x27;status_last_archived_0_24m&#x27;, &#x27;status_2nd_last_archived_0_24m&#x27;, &#x27;status_3rd_last_archived_0_24m&#x27;, &#x27;status_max_archived_0_6_months&#x27;, &#x27;status_max_archived_0_12_months&#x27;, &#x27;status_max_archived_0_24_months&#x27;, &#x27;worst_status_active_inv&#x27;]</pre></div></div></div><div class=\"sk-serial\"><div class=\"sk-item\"><div class=\"sk-serial\"><div class=\"sk-item\"><div class=\"sk-estimator sk-toggleable\"><input class=\"sk-toggleable__control sk-hidden--visually\" id=\"sk-estimator-id-55\" type=\"checkbox\" ><label for=\"sk-estimator-id-55\" class=\"sk-toggleable__label sk-toggleable__label-arrow\">custom_imputer</label><div class=\"sk-toggleable__content\"><pre>custom_imputer()</pre></div></div></div><div class=\"sk-item\"><div class=\"sk-estimator sk-toggleable\"><input class=\"sk-toggleable__control sk-hidden--visually\" id=\"sk-estimator-id-56\" type=\"checkbox\" ><label for=\"sk-estimator-id-56\" class=\"sk-toggleable__label sk-toggleable__label-arrow\">MinMaxScaler</label><div class=\"sk-toggleable__content\"><pre>MinMaxScaler()</pre></div></div></div></div></div></div></div></div><div class=\"sk-parallel-item\"><div class=\"sk-item\"><div class=\"sk-label-container\"><div class=\"sk-label sk-toggleable\"><input class=\"sk-toggleable__control sk-hidden--visually\" id=\"sk-estimator-id-57\" type=\"checkbox\" ><label for=\"sk-estimator-id-57\" class=\"sk-toggleable__label sk-toggleable__label-arrow\">ohe</label><div class=\"sk-toggleable__content\"><pre>[&#x27;merchant_category&#x27;, &#x27;merchant_group&#x27;, &#x27;has_paid&#x27;, &#x27;name_in_email&#x27;]</pre></div></div></div><div class=\"sk-serial\"><div class=\"sk-item\"><div class=\"sk-serial\"><div class=\"sk-item\"><div class=\"sk-estimator sk-toggleable\"><input class=\"sk-toggleable__control sk-hidden--visually\" id=\"sk-estimator-id-58\" type=\"checkbox\" ><label for=\"sk-estimator-id-58\" class=\"sk-toggleable__label sk-toggleable__label-arrow\">OneHotEncoder</label><div class=\"sk-toggleable__content\"><pre>OneHotEncoder(drop=&#x27;if_binary&#x27;, handle_unknown=&#x27;ignore&#x27;, sparse_output=False)</pre></div></div></div></div></div></div></div></div><div class=\"sk-parallel-item\"><div class=\"sk-item\"><div class=\"sk-label-container\"><div class=\"sk-label sk-toggleable\"><input class=\"sk-toggleable__control sk-hidden--visually\" id=\"sk-estimator-id-59\" type=\"checkbox\" ><label for=\"sk-estimator-id-59\" class=\"sk-toggleable__label sk-toggleable__label-arrow\">time</label><div class=\"sk-toggleable__content\"><pre>[&#x27;time_hours&#x27;]</pre></div></div></div><div class=\"sk-serial\"><div class=\"sk-item\"><div class=\"sk-serial\"><div class=\"sk-item\"><div class=\"sk-estimator sk-toggleable\"><input class=\"sk-toggleable__control sk-hidden--visually\" id=\"sk-estimator-id-60\" type=\"checkbox\" ><label for=\"sk-estimator-id-60\" class=\"sk-toggleable__label sk-toggleable__label-arrow\">time_tranformer</label><div class=\"sk-toggleable__content\"><pre>time_tranformer()</pre></div></div></div></div></div></div></div></div></div></div><div class=\"sk-item\"><div class=\"sk-estimator sk-toggleable\"><input class=\"sk-toggleable__control sk-hidden--visually\" id=\"sk-estimator-id-61\" type=\"checkbox\" ><label for=\"sk-estimator-id-61\" class=\"sk-toggleable__label sk-toggleable__label-arrow\">SMOTE</label><div class=\"sk-toggleable__content\"><pre>SMOTE(sampling_strategy=0.1)</pre></div></div></div><div class=\"sk-item\"><div class=\"sk-estimator sk-toggleable\"><input class=\"sk-toggleable__control sk-hidden--visually\" id=\"sk-estimator-id-62\" type=\"checkbox\" ><label for=\"sk-estimator-id-62\" class=\"sk-toggleable__label sk-toggleable__label-arrow\">RandomUnderSampler</label><div class=\"sk-toggleable__content\"><pre>RandomUnderSampler(sampling_strategy=0.5)</pre></div></div></div><div class=\"sk-item sk-dashed-wrapped\"><div class=\"sk-label-container\"><div class=\"sk-label sk-toggleable\"><input class=\"sk-toggleable__control sk-hidden--visually\" id=\"sk-estimator-id-63\" type=\"checkbox\" ><label for=\"sk-estimator-id-63\" class=\"sk-toggleable__label sk-toggleable__label-arrow\">feature selecter: SelectFromModel</label><div class=\"sk-toggleable__content\"><pre>SelectFromModel(estimator=RandomForestClassifier(), threshold=&#x27;median&#x27;)</pre></div></div></div><div class=\"sk-parallel\"><div class=\"sk-parallel-item\"><div class=\"sk-item\"><div class=\"sk-label-container\"><div class=\"sk-label sk-toggleable\"><input class=\"sk-toggleable__control sk-hidden--visually\" id=\"sk-estimator-id-64\" type=\"checkbox\" ><label for=\"sk-estimator-id-64\" class=\"sk-toggleable__label sk-toggleable__label-arrow\">estimator: RandomForestClassifier</label><div class=\"sk-toggleable__content\"><pre>RandomForestClassifier()</pre></div></div></div><div class=\"sk-serial\"><div class=\"sk-item\"><div class=\"sk-estimator sk-toggleable\"><input class=\"sk-toggleable__control sk-hidden--visually\" id=\"sk-estimator-id-65\" type=\"checkbox\" ><label for=\"sk-estimator-id-65\" class=\"sk-toggleable__label sk-toggleable__label-arrow\">RandomForestClassifier</label><div class=\"sk-toggleable__content\"><pre>RandomForestClassifier()</pre></div></div></div></div></div></div></div></div></div></div></div></div>"
      ],
      "text/plain": [
       "Pipeline(steps=[('pipe',\n",
       "                 ColumnTransformer(transformers=[('numerical',\n",
       "                                                  Pipeline(steps=[('custom_imputer',\n",
       "                                                                   custom_imputer()),\n",
       "                                                                  ('minmaxscaler',\n",
       "                                                                   MinMaxScaler())]),\n",
       "                                                  ['account_amount_added_12_24m',\n",
       "                                                   'account_days_in_dc_12_24m',\n",
       "                                                   'account_days_in_rem_12_24m',\n",
       "                                                   'account_days_in_term_12_24m',\n",
       "                                                   'account_incoming_debt_vs_paid_0_24m',\n",
       "                                                   'age',\n",
       "                                                   'avg_payment_span_0_12m',\n",
       "                                                   'avg_pay...\n",
       "                                                                                 sparse_output=False))]),\n",
       "                                                  ['merchant_category',\n",
       "                                                   'merchant_group', 'has_paid',\n",
       "                                                   'name_in_email']),\n",
       "                                                 ('time',\n",
       "                                                  Pipeline(steps=[('time_tranformer',\n",
       "                                                                   time_tranformer())]),\n",
       "                                                  ['time_hours'])])),\n",
       "                ('smote', SMOTE(sampling_strategy=0.1)),\n",
       "                ('RandomUnderSampler',\n",
       "                 RandomUnderSampler(sampling_strategy=0.5)),\n",
       "                ('feature selecter',\n",
       "                 SelectFromModel(estimator=RandomForestClassifier(),\n",
       "                                 threshold='median'))])"
      ]
     },
     "execution_count": 27,
     "metadata": {},
     "output_type": "execute_result"
    }
   ],
   "source": [
    "pipeline(numerical_features, ordinal_features, nominal_features, time_features)"
   ]
  },
  {
   "cell_type": "code",
   "execution_count": 28,
   "id": "498ee1a6",
   "metadata": {},
   "outputs": [
    {
     "name": "stdout",
     "output_type": "stream",
     "text": [
      "<class 'pandas.core.frame.DataFrame'>\n",
      "<class 'numpy.ndarray'>\n"
     ]
    }
   ],
   "source": [
    "# import training dataset\n",
    "train_dataset = pd.read_csv('raw_data/train_dataset.csv')\n",
    "\n",
    "# set target and variables\n",
    "X_train = train_dataset.drop(columns=['default'])\n",
    "y_train = train_dataset.default\n",
    "\n",
    "# preprocessing pipeline\n",
    "preproc_pipeline = pipeline(numerical_features, ordinal_features, nominal_features, time_features)\n",
    "\n",
    "\n",
    "print(type(X_train))\n",
    "\n",
    "# transform training data\n",
    "preproc_data = preproc_pipeline.fit_transform(X_train, y_train)\n",
    "\n",
    "print(type(preproc_data))"
   ]
  },
  {
   "cell_type": "code",
   "execution_count": 31,
   "id": "8ecbe3b0",
   "metadata": {},
   "outputs": [
    {
     "data": {
      "text/plain": [
       "(18624, 58)"
      ]
     },
     "execution_count": 31,
     "metadata": {},
     "output_type": "execute_result"
    }
   ],
   "source": [
    "preproc_data.shape"
   ]
  },
  {
   "cell_type": "code",
   "execution_count": 32,
   "id": "104b02a5",
   "metadata": {},
   "outputs": [
    {
     "data": {
      "text/plain": [
       "(62983,)"
      ]
     },
     "execution_count": 32,
     "metadata": {},
     "output_type": "execute_result"
    }
   ],
   "source": [
    "y_train.shape"
   ]
  },
  {
   "cell_type": "code",
   "execution_count": 33,
   "id": "8bbf847f",
   "metadata": {},
   "outputs": [
    {
     "data": {
      "text/plain": [
       "array([[ 0.        ,  0.        ,  0.        , ...,  0.        ,\n",
       "        -0.3975483 ,  0.91758125],\n",
       "       [ 0.        ,  0.        ,  0.        , ...,  0.        ,\n",
       "        -0.99482914, -0.10156273],\n",
       "       [ 0.        ,  0.        ,  0.        , ...,  0.        ,\n",
       "        -0.79648595,  0.60465704],\n",
       "       ...,\n",
       "       [ 0.        ,  0.        ,  0.        , ...,  1.        ,\n",
       "         0.88471158,  0.4132791 ],\n",
       "       [ 0.00701742,  0.        ,  0.        , ...,  0.        ,\n",
       "        -0.72886544,  0.64583547],\n",
       "       [ 0.        ,  0.        ,  0.        , ...,  0.        ,\n",
       "        -0.32978803, -0.94323995]])"
      ]
     },
     "execution_count": 33,
     "metadata": {},
     "output_type": "execute_result"
    }
   ],
   "source": [
    "preproc_pipeline.fit_transform(X_train, y_train)"
   ]
  },
  {
   "cell_type": "code",
   "execution_count": null,
   "id": "ef377427",
   "metadata": {},
   "outputs": [],
   "source": []
  }
 ],
 "metadata": {
  "kernelspec": {
   "display_name": "Python 3 (ipykernel)",
   "language": "python",
   "name": "python3"
  },
  "language_info": {
   "codemirror_mode": {
    "name": "ipython",
    "version": 3
   },
   "file_extension": ".py",
   "mimetype": "text/x-python",
   "name": "python",
   "nbconvert_exporter": "python",
   "pygments_lexer": "ipython3",
   "version": "3.10.6"
  },
  "toc": {
   "base_numbering": 1,
   "nav_menu": {},
   "number_sections": true,
   "sideBar": true,
   "skip_h1_title": false,
   "title_cell": "Table of Contents",
   "title_sidebar": "Contents",
   "toc_cell": false,
   "toc_position": {},
   "toc_section_display": true,
   "toc_window_display": false
  }
 },
 "nbformat": 4,
 "nbformat_minor": 5
}
